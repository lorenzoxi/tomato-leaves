{
 "cells": [
  {
   "cell_type": "code",
   "execution_count": null,
   "metadata": {},
   "outputs": [],
   "source": [
    "#  GFLOPs calculation for PyTorch model\n",
    "\n",
    "import torchprofile\n",
    "import torch\n",
    "\n",
    "path = \"path/to/model.pth\"\n",
    "\n",
    "load_model = torch.jit.load(f\"{path}\")\n",
    "#or\n",
    "load_model = torch.load(f\"{path}\")\n",
    "\n",
    "device = \"mps\" if torch.backends.mps.is_available() else \"cpu\"\n",
    "load_model.to(device)\n",
    "\n",
    "input_tensor = torch.randn(1, 3, 224, 224).to(device)\n",
    "flops = torchprofile.profile_macs(load_model, input_tensor)  # MACs: Multiply-Accumulate operations\n",
    "flops *= 2\n",
    "gflops = flops / 1e9\n",
    "\n",
    "print(f'GFLOPs: {gflops:.4f}')"
   ]
  },
  {
   "cell_type": "code",
   "execution_count": null,
   "metadata": {},
   "outputs": [],
   "source": [
    "# results saving operation to csv file\n",
    "\n",
    "import time\n",
    "import torch\n",
    "import pandas as pd\n",
    "\n",
    "path = \"path/to/model.pth\"\n",
    "model_name = \"model_name\"\n",
    "\n",
    "model = torch.jit.load(f\"{path}\")\n",
    "#or\n",
    "model = torch.load(f\"{path}\")\n",
    "\n",
    "csv_path = '../results.csv'\n",
    "\n",
    "\n",
    "total_params = sum(p.numel() for p in model.parameters())\n",
    "total_trainable_params = sum(p.numel() for p in model.parameters() if p.requires_grad)\n",
    "\n",
    "\n",
    "\n",
    "df = pd.read_csv(csv_path)\n",
    "row = pd.DataFrame({\n",
    "    'model': [model_name],\n",
    "    'params': [total_params],\n",
    "    'tr_params': [total_trainable_params],\n",
    "    # 'learning_rate': [learning_rate],\n",
    "    # 'batch': [batch_size],\n",
    "    # 'accuracy_(Tr)': [train_accuracy],\n",
    "    # 'accuracy_(Va)': [validation_accuracy],\n",
    "    # 'precision_(Va)': [validation_precision],\n",
    "    # 'recall_(Va)': [validation_recall],\n",
    "    # 'accuracy_(Te)': [test_accuracy],\n",
    "    # 'precision_(Te)': [test_precision],\n",
    "    # 'recall_(Te)': [test_recall],\n",
    "    # 'time_(s)': [computation_time]\n",
    "}, index=[0])\n",
    "print(df)\n",
    "\n",
    "df = pd.concat([df, row], ignore_index=False)\n",
    "df.to_csv(csv_path, index=False)"
   ]
  }
 ],
 "metadata": {
  "language_info": {
   "name": "python"
  }
 },
 "nbformat": 4,
 "nbformat_minor": 2
}
